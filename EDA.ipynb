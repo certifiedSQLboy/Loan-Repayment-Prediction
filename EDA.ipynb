{
 "cells": [
  {
   "cell_type": "code",
   "execution_count": 1,
   "metadata": {},
   "outputs": [],
   "source": [
    "import pandas as pd\n",
    "import numpy as np\n",
    "import matplotlib.pyplot as plt\n",
    "import seaborn as sns\n",
    "%matplotlib inline"
   ]
  },
  {
   "cell_type": "markdown",
   "metadata": {},
   "source": [
    "### Load Dataset"
   ]
  },
  {
   "cell_type": "code",
   "execution_count": 2,
   "metadata": {},
   "outputs": [
    {
     "data": {
      "text/html": [
       "<div>\n",
       "<style scoped>\n",
       "    .dataframe tbody tr th:only-of-type {\n",
       "        vertical-align: middle;\n",
       "    }\n",
       "\n",
       "    .dataframe tbody tr th {\n",
       "        vertical-align: top;\n",
       "    }\n",
       "\n",
       "    .dataframe thead th {\n",
       "        text-align: right;\n",
       "    }\n",
       "</style>\n",
       "<table border=\"1\" class=\"dataframe\">\n",
       "  <thead>\n",
       "    <tr style=\"text-align: right;\">\n",
       "      <th></th>\n",
       "      <th>Customer ID</th>\n",
       "      <th>Fictional Surname</th>\n",
       "      <th>Age</th>\n",
       "      <th>Gender</th>\n",
       "      <th>Years at address</th>\n",
       "      <th>Employment status</th>\n",
       "      <th>Country</th>\n",
       "      <th>Current debt</th>\n",
       "      <th>Postcode</th>\n",
       "      <th>Income</th>\n",
       "      <th>Own home</th>\n",
       "      <th>CCJs</th>\n",
       "      <th>Loan amount</th>\n",
       "      <th>Outcome</th>\n",
       "    </tr>\n",
       "  </thead>\n",
       "  <tbody>\n",
       "    <tr>\n",
       "      <th>0</th>\n",
       "      <td>945780</td>\n",
       "      <td>Miah</td>\n",
       "      <td>19</td>\n",
       "      <td>S</td>\n",
       "      <td>2</td>\n",
       "      <td>Unemployed</td>\n",
       "      <td>UK</td>\n",
       "      <td>0</td>\n",
       "      <td>TA3 7SH</td>\n",
       "      <td>45500</td>\n",
       "      <td>Rent</td>\n",
       "      <td>1</td>\n",
       "      <td>13234</td>\n",
       "      <td>Paid</td>\n",
       "    </tr>\n",
       "    <tr>\n",
       "      <th>1</th>\n",
       "      <td>747989</td>\n",
       "      <td>Hollis</td>\n",
       "      <td>66</td>\n",
       "      <td>F</td>\n",
       "      <td>13</td>\n",
       "      <td>Unemployed</td>\n",
       "      <td>UK</td>\n",
       "      <td>1080</td>\n",
       "      <td>WV6 8SU</td>\n",
       "      <td>18000</td>\n",
       "      <td>Own</td>\n",
       "      <td>0</td>\n",
       "      <td>5561</td>\n",
       "      <td>Paid</td>\n",
       "    </tr>\n",
       "    <tr>\n",
       "      <th>2</th>\n",
       "      <td>790344</td>\n",
       "      <td>Barker</td>\n",
       "      <td>48</td>\n",
       "      <td>F</td>\n",
       "      <td>4</td>\n",
       "      <td>Self Employed</td>\n",
       "      <td>UK</td>\n",
       "      <td>3690</td>\n",
       "      <td>BT15 5HG</td>\n",
       "      <td>47500</td>\n",
       "      <td>Rent</td>\n",
       "      <td>1</td>\n",
       "      <td>28288</td>\n",
       "      <td>Paid</td>\n",
       "    </tr>\n",
       "    <tr>\n",
       "      <th>3</th>\n",
       "      <td>597668</td>\n",
       "      <td>Titford</td>\n",
       "      <td>67</td>\n",
       "      <td>F</td>\n",
       "      <td>47</td>\n",
       "      <td>Self Employed</td>\n",
       "      <td>UK</td>\n",
       "      <td>6560</td>\n",
       "      <td>GU10 3NH</td>\n",
       "      <td>36000</td>\n",
       "      <td>Mortgage</td>\n",
       "      <td>0</td>\n",
       "      <td>30199</td>\n",
       "      <td>Paid</td>\n",
       "    </tr>\n",
       "    <tr>\n",
       "      <th>4</th>\n",
       "      <td>794971</td>\n",
       "      <td>Berry</td>\n",
       "      <td>70</td>\n",
       "      <td>M</td>\n",
       "      <td>8</td>\n",
       "      <td>Self Employed</td>\n",
       "      <td>UK</td>\n",
       "      <td>9100</td>\n",
       "      <td>GL6 6UB</td>\n",
       "      <td>50500</td>\n",
       "      <td>Own</td>\n",
       "      <td>0</td>\n",
       "      <td>35078</td>\n",
       "      <td>Paid</td>\n",
       "    </tr>\n",
       "  </tbody>\n",
       "</table>\n",
       "</div>"
      ],
      "text/plain": [
       "   Customer ID Fictional Surname  Age Gender  Years at address  \\\n",
       "0       945780              Miah   19      S                 2   \n",
       "1       747989            Hollis   66      F                13   \n",
       "2       790344            Barker   48      F                 4   \n",
       "3       597668           Titford   67      F                47   \n",
       "4       794971             Berry   70      M                 8   \n",
       "\n",
       "  Employment status Country  Current debt  Postcode  Income  Own home  CCJs  \\\n",
       "0        Unemployed      UK             0   TA3 7SH   45500      Rent     1   \n",
       "1        Unemployed      UK          1080   WV6 8SU   18000       Own     0   \n",
       "2     Self Employed      UK          3690  BT15 5HG   47500      Rent     1   \n",
       "3     Self Employed      UK          6560  GU10 3NH   36000  Mortgage     0   \n",
       "4     Self Employed      UK          9100   GL6 6UB   50500       Own     0   \n",
       "\n",
       "   Loan amount Outcome  \n",
       "0        13234    Paid  \n",
       "1         5561    Paid  \n",
       "2        28288    Paid  \n",
       "3        30199    Paid  \n",
       "4        35078    Paid  "
      ]
     },
     "execution_count": 2,
     "metadata": {},
     "output_type": "execute_result"
    }
   ],
   "source": [
    "df = pd.read_csv('loans_dataset.csv')\n",
    "df.head()"
   ]
  },
  {
   "cell_type": "markdown",
   "metadata": {},
   "source": [
    "### Display Statistics Summary"
   ]
  },
  {
   "cell_type": "code",
   "execution_count": 3,
   "metadata": {},
   "outputs": [
    {
     "name": "stdout",
     "output_type": "stream",
     "text": [
      "        Customer ID          Age  Years at address  Current debt  \\\n",
      "count  2.000000e+03  2000.000000       2000.000000   2000.000000   \n",
      "mean   8.370775e+05    52.912000         18.525500   3309.325000   \n",
      "std    1.607633e+05    20.991226         23.201541   2980.628888   \n",
      "min    5.555740e+05    17.000000          1.000000      0.000000   \n",
      "25%    6.929298e+05    35.000000          5.000000    650.000000   \n",
      "50%    8.405715e+05    53.000000         13.000000   2450.000000   \n",
      "75%    9.778380e+05    70.000000         28.000000   5512.500000   \n",
      "max    1.110985e+06    89.000000        560.000000   9980.000000   \n",
      "\n",
      "              Income        CCJs   Loan amount  \n",
      "count    2000.000000  2000.00000   2000.000000  \n",
      "mean    38319.000000     1.05250  18929.627500  \n",
      "std     12786.506027     2.46856  12853.188862  \n",
      "min      3000.000000     0.00000     13.000000  \n",
      "25%     30000.000000     0.00000   8010.000000  \n",
      "50%     40000.000000     1.00000  17148.000000  \n",
      "75%     48000.000000     2.00000  27913.500000  \n",
      "max    220000.000000   100.00000  54455.000000  \n"
     ]
    }
   ],
   "source": [
    "print(df.describe())"
   ]
  },
  {
   "cell_type": "code",
   "execution_count": 4,
   "metadata": {},
   "outputs": [
    {
     "data": {
      "text/plain": [
       "(2000, 14)"
      ]
     },
     "execution_count": 4,
     "metadata": {},
     "output_type": "execute_result"
    }
   ],
   "source": [
    "df.shape"
   ]
  },
  {
   "cell_type": "code",
   "execution_count": 5,
   "metadata": {},
   "outputs": [
    {
     "name": "stdout",
     "output_type": "stream",
     "text": [
      "<class 'pandas.core.frame.DataFrame'>\n",
      "RangeIndex: 2000 entries, 0 to 1999\n",
      "Data columns (total 14 columns):\n",
      " #   Column             Non-Null Count  Dtype \n",
      "---  ------             --------------  ----- \n",
      " 0   Customer ID        2000 non-null   int64 \n",
      " 1   Fictional Surname  2000 non-null   object\n",
      " 2   Age                2000 non-null   int64 \n",
      " 3   Gender             2000 non-null   object\n",
      " 4   Years at address   2000 non-null   int64 \n",
      " 5   Employment status  2000 non-null   object\n",
      " 6   Country            2000 non-null   object\n",
      " 7   Current debt       2000 non-null   int64 \n",
      " 8   Postcode           2000 non-null   object\n",
      " 9   Income             2000 non-null   int64 \n",
      " 10  Own home           2000 non-null   object\n",
      " 11  CCJs               2000 non-null   int64 \n",
      " 12  Loan amount        2000 non-null   int64 \n",
      " 13  Outcome            2000 non-null   object\n",
      "dtypes: int64(7), object(7)\n",
      "memory usage: 218.9+ KB\n"
     ]
    }
   ],
   "source": [
    "df.info()"
   ]
  },
  {
   "cell_type": "markdown",
   "metadata": {},
   "source": [
    "### Drop ID and Fictional Name Columns"
   ]
  },
  {
   "cell_type": "code",
   "execution_count": 6,
   "metadata": {},
   "outputs": [],
   "source": [
    "# First make a copy of the dataset\n",
    "data = df.copy()\n",
    "data.drop(columns=['Customer ID', 'Fictional Surname'], axis=1, inplace=True)"
   ]
  },
  {
   "cell_type": "markdown",
   "metadata": {},
   "source": [
    "### How many people paid or defaulted their loans"
   ]
  },
  {
   "cell_type": "code",
   "execution_count": 7,
   "metadata": {},
   "outputs": [
    {
     "data": {
      "text/plain": [
       "Outcome\n",
       "Defaulted     882\n",
       "Paid         1118\n",
       "Name: Outcome, dtype: int64"
      ]
     },
     "execution_count": 7,
     "metadata": {},
     "output_type": "execute_result"
    }
   ],
   "source": [
    "data.groupby('Outcome')['Outcome'].count()"
   ]
  },
  {
   "cell_type": "markdown",
   "metadata": {},
   "source": [
    "### How many people own, rent or mortagage a house?"
   ]
  },
  {
   "cell_type": "code",
   "execution_count": 8,
   "metadata": {},
   "outputs": [
    {
     "data": {
      "text/html": [
       "<div>\n",
       "<style scoped>\n",
       "    .dataframe tbody tr th:only-of-type {\n",
       "        vertical-align: middle;\n",
       "    }\n",
       "\n",
       "    .dataframe tbody tr th {\n",
       "        vertical-align: top;\n",
       "    }\n",
       "\n",
       "    .dataframe thead th {\n",
       "        text-align: right;\n",
       "    }\n",
       "</style>\n",
       "<table border=\"1\" class=\"dataframe\">\n",
       "  <thead>\n",
       "    <tr style=\"text-align: right;\">\n",
       "      <th></th>\n",
       "      <th>Age</th>\n",
       "      <th>Gender</th>\n",
       "      <th>Years at address</th>\n",
       "      <th>Employment status</th>\n",
       "      <th>Country</th>\n",
       "      <th>Current debt</th>\n",
       "      <th>Postcode</th>\n",
       "      <th>Income</th>\n",
       "      <th>CCJs</th>\n",
       "      <th>Loan amount</th>\n",
       "      <th>Outcome</th>\n",
       "    </tr>\n",
       "    <tr>\n",
       "      <th>Own home</th>\n",
       "      <th></th>\n",
       "      <th></th>\n",
       "      <th></th>\n",
       "      <th></th>\n",
       "      <th></th>\n",
       "      <th></th>\n",
       "      <th></th>\n",
       "      <th></th>\n",
       "      <th></th>\n",
       "      <th></th>\n",
       "      <th></th>\n",
       "    </tr>\n",
       "  </thead>\n",
       "  <tbody>\n",
       "    <tr>\n",
       "      <th>Mortgage</th>\n",
       "      <td>677</td>\n",
       "      <td>677</td>\n",
       "      <td>677</td>\n",
       "      <td>677</td>\n",
       "      <td>677</td>\n",
       "      <td>677</td>\n",
       "      <td>677</td>\n",
       "      <td>677</td>\n",
       "      <td>677</td>\n",
       "      <td>677</td>\n",
       "      <td>677</td>\n",
       "    </tr>\n",
       "    <tr>\n",
       "      <th>Own</th>\n",
       "      <td>1031</td>\n",
       "      <td>1031</td>\n",
       "      <td>1031</td>\n",
       "      <td>1031</td>\n",
       "      <td>1031</td>\n",
       "      <td>1031</td>\n",
       "      <td>1031</td>\n",
       "      <td>1031</td>\n",
       "      <td>1031</td>\n",
       "      <td>1031</td>\n",
       "      <td>1031</td>\n",
       "    </tr>\n",
       "    <tr>\n",
       "      <th>Rent</th>\n",
       "      <td>292</td>\n",
       "      <td>292</td>\n",
       "      <td>292</td>\n",
       "      <td>292</td>\n",
       "      <td>292</td>\n",
       "      <td>292</td>\n",
       "      <td>292</td>\n",
       "      <td>292</td>\n",
       "      <td>292</td>\n",
       "      <td>292</td>\n",
       "      <td>292</td>\n",
       "    </tr>\n",
       "  </tbody>\n",
       "</table>\n",
       "</div>"
      ],
      "text/plain": [
       "           Age  Gender  Years at address  Employment status  Country  \\\n",
       "Own home                                                               \n",
       "Mortgage   677     677               677                677      677   \n",
       "Own       1031    1031              1031               1031     1031   \n",
       "Rent       292     292               292                292      292   \n",
       "\n",
       "          Current debt  Postcode  Income  CCJs  Loan amount  Outcome  \n",
       "Own home                                                              \n",
       "Mortgage           677       677     677   677          677      677  \n",
       "Own               1031      1031    1031  1031         1031     1031  \n",
       "Rent               292       292     292   292          292      292  "
      ]
     },
     "execution_count": 8,
     "metadata": {},
     "output_type": "execute_result"
    }
   ],
   "source": [
    "data.groupby('Own home').count()"
   ]
  },
  {
   "cell_type": "markdown",
   "metadata": {},
   "source": [
    "### Create Group Ages"
   ]
  },
  {
   "cell_type": "code",
   "execution_count": 9,
   "metadata": {},
   "outputs": [],
   "source": [
    "data['Age Group'] = pd.cut(data['Age'], bins=[10, 30, 50, 70, 90])"
   ]
  },
  {
   "cell_type": "markdown",
   "metadata": {},
   "source": [
    "### How many people paid/defaulted by age group?"
   ]
  },
  {
   "cell_type": "code",
   "execution_count": 10,
   "metadata": {},
   "outputs": [
    {
     "data": {
      "text/html": [
       "<div>\n",
       "<style scoped>\n",
       "    .dataframe tbody tr th:only-of-type {\n",
       "        vertical-align: middle;\n",
       "    }\n",
       "\n",
       "    .dataframe tbody tr th {\n",
       "        vertical-align: top;\n",
       "    }\n",
       "\n",
       "    .dataframe thead th {\n",
       "        text-align: right;\n",
       "    }\n",
       "</style>\n",
       "<table border=\"1\" class=\"dataframe\">\n",
       "  <thead>\n",
       "    <tr style=\"text-align: right;\">\n",
       "      <th></th>\n",
       "      <th></th>\n",
       "      <th>Age</th>\n",
       "      <th>Gender</th>\n",
       "      <th>Years at address</th>\n",
       "      <th>Employment status</th>\n",
       "      <th>Country</th>\n",
       "      <th>Current debt</th>\n",
       "      <th>Postcode</th>\n",
       "      <th>Income</th>\n",
       "      <th>Own home</th>\n",
       "      <th>CCJs</th>\n",
       "      <th>Loan amount</th>\n",
       "    </tr>\n",
       "    <tr>\n",
       "      <th>Age Group</th>\n",
       "      <th>Outcome</th>\n",
       "      <th></th>\n",
       "      <th></th>\n",
       "      <th></th>\n",
       "      <th></th>\n",
       "      <th></th>\n",
       "      <th></th>\n",
       "      <th></th>\n",
       "      <th></th>\n",
       "      <th></th>\n",
       "      <th></th>\n",
       "      <th></th>\n",
       "    </tr>\n",
       "  </thead>\n",
       "  <tbody>\n",
       "    <tr>\n",
       "      <th rowspan=\"2\" valign=\"top\">(10, 30]</th>\n",
       "      <th>Defaulted</th>\n",
       "      <td>187</td>\n",
       "      <td>187</td>\n",
       "      <td>187</td>\n",
       "      <td>187</td>\n",
       "      <td>187</td>\n",
       "      <td>187</td>\n",
       "      <td>187</td>\n",
       "      <td>187</td>\n",
       "      <td>187</td>\n",
       "      <td>187</td>\n",
       "      <td>187</td>\n",
       "    </tr>\n",
       "    <tr>\n",
       "      <th>Paid</th>\n",
       "      <td>207</td>\n",
       "      <td>207</td>\n",
       "      <td>207</td>\n",
       "      <td>207</td>\n",
       "      <td>207</td>\n",
       "      <td>207</td>\n",
       "      <td>207</td>\n",
       "      <td>207</td>\n",
       "      <td>207</td>\n",
       "      <td>207</td>\n",
       "      <td>207</td>\n",
       "    </tr>\n",
       "    <tr>\n",
       "      <th rowspan=\"2\" valign=\"top\">(30, 50]</th>\n",
       "      <th>Defaulted</th>\n",
       "      <td>248</td>\n",
       "      <td>248</td>\n",
       "      <td>248</td>\n",
       "      <td>248</td>\n",
       "      <td>248</td>\n",
       "      <td>248</td>\n",
       "      <td>248</td>\n",
       "      <td>248</td>\n",
       "      <td>248</td>\n",
       "      <td>248</td>\n",
       "      <td>248</td>\n",
       "    </tr>\n",
       "    <tr>\n",
       "      <th>Paid</th>\n",
       "      <td>287</td>\n",
       "      <td>287</td>\n",
       "      <td>287</td>\n",
       "      <td>287</td>\n",
       "      <td>287</td>\n",
       "      <td>287</td>\n",
       "      <td>287</td>\n",
       "      <td>287</td>\n",
       "      <td>287</td>\n",
       "      <td>287</td>\n",
       "      <td>287</td>\n",
       "    </tr>\n",
       "    <tr>\n",
       "      <th rowspan=\"2\" valign=\"top\">(50, 70]</th>\n",
       "      <th>Defaulted</th>\n",
       "      <td>228</td>\n",
       "      <td>228</td>\n",
       "      <td>228</td>\n",
       "      <td>228</td>\n",
       "      <td>228</td>\n",
       "      <td>228</td>\n",
       "      <td>228</td>\n",
       "      <td>228</td>\n",
       "      <td>228</td>\n",
       "      <td>228</td>\n",
       "      <td>228</td>\n",
       "    </tr>\n",
       "    <tr>\n",
       "      <th>Paid</th>\n",
       "      <td>344</td>\n",
       "      <td>344</td>\n",
       "      <td>344</td>\n",
       "      <td>344</td>\n",
       "      <td>344</td>\n",
       "      <td>344</td>\n",
       "      <td>344</td>\n",
       "      <td>344</td>\n",
       "      <td>344</td>\n",
       "      <td>344</td>\n",
       "      <td>344</td>\n",
       "    </tr>\n",
       "    <tr>\n",
       "      <th rowspan=\"2\" valign=\"top\">(70, 90]</th>\n",
       "      <th>Defaulted</th>\n",
       "      <td>219</td>\n",
       "      <td>219</td>\n",
       "      <td>219</td>\n",
       "      <td>219</td>\n",
       "      <td>219</td>\n",
       "      <td>219</td>\n",
       "      <td>219</td>\n",
       "      <td>219</td>\n",
       "      <td>219</td>\n",
       "      <td>219</td>\n",
       "      <td>219</td>\n",
       "    </tr>\n",
       "    <tr>\n",
       "      <th>Paid</th>\n",
       "      <td>280</td>\n",
       "      <td>280</td>\n",
       "      <td>280</td>\n",
       "      <td>280</td>\n",
       "      <td>280</td>\n",
       "      <td>280</td>\n",
       "      <td>280</td>\n",
       "      <td>280</td>\n",
       "      <td>280</td>\n",
       "      <td>280</td>\n",
       "      <td>280</td>\n",
       "    </tr>\n",
       "  </tbody>\n",
       "</table>\n",
       "</div>"
      ],
      "text/plain": [
       "                     Age  Gender  Years at address  Employment status  \\\n",
       "Age Group Outcome                                                       \n",
       "(10, 30]  Defaulted  187     187               187                187   \n",
       "          Paid       207     207               207                207   \n",
       "(30, 50]  Defaulted  248     248               248                248   \n",
       "          Paid       287     287               287                287   \n",
       "(50, 70]  Defaulted  228     228               228                228   \n",
       "          Paid       344     344               344                344   \n",
       "(70, 90]  Defaulted  219     219               219                219   \n",
       "          Paid       280     280               280                280   \n",
       "\n",
       "                     Country  Current debt  Postcode  Income  Own home  CCJs  \\\n",
       "Age Group Outcome                                                              \n",
       "(10, 30]  Defaulted      187           187       187     187       187   187   \n",
       "          Paid           207           207       207     207       207   207   \n",
       "(30, 50]  Defaulted      248           248       248     248       248   248   \n",
       "          Paid           287           287       287     287       287   287   \n",
       "(50, 70]  Defaulted      228           228       228     228       228   228   \n",
       "          Paid           344           344       344     344       344   344   \n",
       "(70, 90]  Defaulted      219           219       219     219       219   219   \n",
       "          Paid           280           280       280     280       280   280   \n",
       "\n",
       "                     Loan amount  \n",
       "Age Group Outcome                 \n",
       "(10, 30]  Defaulted          187  \n",
       "          Paid               207  \n",
       "(30, 50]  Defaulted          248  \n",
       "          Paid               287  \n",
       "(50, 70]  Defaulted          228  \n",
       "          Paid               344  \n",
       "(70, 90]  Defaulted          219  \n",
       "          Paid               280  "
      ]
     },
     "execution_count": 10,
     "metadata": {},
     "output_type": "execute_result"
    }
   ],
   "source": [
    "data.groupby(['Age Group','Outcome']).count()"
   ]
  },
  {
   "cell_type": "markdown",
   "metadata": {},
   "source": [
    "### How many people own, rent or mortgage a home by age group?"
   ]
  },
  {
   "cell_type": "code",
   "execution_count": 11,
   "metadata": {},
   "outputs": [
    {
     "data": {
      "text/plain": [
       "Age Group  Own home\n",
       "(10, 30]   Mortgage    148\n",
       "           Own         181\n",
       "           Rent         65\n",
       "(30, 50]   Mortgage    176\n",
       "           Own         283\n",
       "           Rent         76\n",
       "(50, 70]   Mortgage    184\n",
       "           Own         302\n",
       "           Rent         86\n",
       "(70, 90]   Mortgage    169\n",
       "           Own         265\n",
       "           Rent         65\n",
       "Name: Own home, dtype: int64"
      ]
     },
     "execution_count": 11,
     "metadata": {},
     "output_type": "execute_result"
    }
   ],
   "source": [
    "data.groupby(['Age Group', 'Own home'])['Own home'].count()"
   ]
  },
  {
   "cell_type": "markdown",
   "metadata": {},
   "source": [
    "### Rename Columns"
   ]
  },
  {
   "cell_type": "code",
   "execution_count": 12,
   "metadata": {},
   "outputs": [
    {
     "data": {
      "text/html": [
       "<div>\n",
       "<style scoped>\n",
       "    .dataframe tbody tr th:only-of-type {\n",
       "        vertical-align: middle;\n",
       "    }\n",
       "\n",
       "    .dataframe tbody tr th {\n",
       "        vertical-align: top;\n",
       "    }\n",
       "\n",
       "    .dataframe thead th {\n",
       "        text-align: right;\n",
       "    }\n",
       "</style>\n",
       "<table border=\"1\" class=\"dataframe\">\n",
       "  <thead>\n",
       "    <tr style=\"text-align: right;\">\n",
       "      <th></th>\n",
       "      <th>Age</th>\n",
       "      <th>Gender</th>\n",
       "      <th>Years at Address</th>\n",
       "      <th>Employment Status</th>\n",
       "      <th>Country</th>\n",
       "      <th>Current Debt</th>\n",
       "      <th>Postcode</th>\n",
       "      <th>Income</th>\n",
       "      <th>Housing</th>\n",
       "      <th>CCJs</th>\n",
       "      <th>Loan Amount</th>\n",
       "      <th>Outcome</th>\n",
       "      <th>Age Group</th>\n",
       "    </tr>\n",
       "  </thead>\n",
       "  <tbody>\n",
       "    <tr>\n",
       "      <th>0</th>\n",
       "      <td>19</td>\n",
       "      <td>S</td>\n",
       "      <td>2</td>\n",
       "      <td>Unemployed</td>\n",
       "      <td>UK</td>\n",
       "      <td>0</td>\n",
       "      <td>TA3 7SH</td>\n",
       "      <td>45500</td>\n",
       "      <td>Rent</td>\n",
       "      <td>1</td>\n",
       "      <td>13234</td>\n",
       "      <td>Paid</td>\n",
       "      <td>(10, 30]</td>\n",
       "    </tr>\n",
       "    <tr>\n",
       "      <th>1</th>\n",
       "      <td>66</td>\n",
       "      <td>F</td>\n",
       "      <td>13</td>\n",
       "      <td>Unemployed</td>\n",
       "      <td>UK</td>\n",
       "      <td>1080</td>\n",
       "      <td>WV6 8SU</td>\n",
       "      <td>18000</td>\n",
       "      <td>Own</td>\n",
       "      <td>0</td>\n",
       "      <td>5561</td>\n",
       "      <td>Paid</td>\n",
       "      <td>(50, 70]</td>\n",
       "    </tr>\n",
       "    <tr>\n",
       "      <th>2</th>\n",
       "      <td>48</td>\n",
       "      <td>F</td>\n",
       "      <td>4</td>\n",
       "      <td>Self Employed</td>\n",
       "      <td>UK</td>\n",
       "      <td>3690</td>\n",
       "      <td>BT15 5HG</td>\n",
       "      <td>47500</td>\n",
       "      <td>Rent</td>\n",
       "      <td>1</td>\n",
       "      <td>28288</td>\n",
       "      <td>Paid</td>\n",
       "      <td>(30, 50]</td>\n",
       "    </tr>\n",
       "    <tr>\n",
       "      <th>3</th>\n",
       "      <td>67</td>\n",
       "      <td>F</td>\n",
       "      <td>47</td>\n",
       "      <td>Self Employed</td>\n",
       "      <td>UK</td>\n",
       "      <td>6560</td>\n",
       "      <td>GU10 3NH</td>\n",
       "      <td>36000</td>\n",
       "      <td>Mortgage</td>\n",
       "      <td>0</td>\n",
       "      <td>30199</td>\n",
       "      <td>Paid</td>\n",
       "      <td>(50, 70]</td>\n",
       "    </tr>\n",
       "    <tr>\n",
       "      <th>4</th>\n",
       "      <td>70</td>\n",
       "      <td>M</td>\n",
       "      <td>8</td>\n",
       "      <td>Self Employed</td>\n",
       "      <td>UK</td>\n",
       "      <td>9100</td>\n",
       "      <td>GL6 6UB</td>\n",
       "      <td>50500</td>\n",
       "      <td>Own</td>\n",
       "      <td>0</td>\n",
       "      <td>35078</td>\n",
       "      <td>Paid</td>\n",
       "      <td>(50, 70]</td>\n",
       "    </tr>\n",
       "    <tr>\n",
       "      <th>...</th>\n",
       "      <td>...</td>\n",
       "      <td>...</td>\n",
       "      <td>...</td>\n",
       "      <td>...</td>\n",
       "      <td>...</td>\n",
       "      <td>...</td>\n",
       "      <td>...</td>\n",
       "      <td>...</td>\n",
       "      <td>...</td>\n",
       "      <td>...</td>\n",
       "      <td>...</td>\n",
       "      <td>...</td>\n",
       "      <td>...</td>\n",
       "    </tr>\n",
       "    <tr>\n",
       "      <th>1995</th>\n",
       "      <td>60</td>\n",
       "      <td>F</td>\n",
       "      <td>4</td>\n",
       "      <td>Self Employed</td>\n",
       "      <td>UK</td>\n",
       "      <td>2900</td>\n",
       "      <td>PR4 4RF</td>\n",
       "      <td>22500</td>\n",
       "      <td>Own</td>\n",
       "      <td>1</td>\n",
       "      <td>15725</td>\n",
       "      <td>Paid</td>\n",
       "      <td>(50, 70]</td>\n",
       "    </tr>\n",
       "    <tr>\n",
       "      <th>1996</th>\n",
       "      <td>24</td>\n",
       "      <td>F</td>\n",
       "      <td>7</td>\n",
       "      <td>Self Employed</td>\n",
       "      <td>UK</td>\n",
       "      <td>5130</td>\n",
       "      <td>PR7 5PA</td>\n",
       "      <td>38000</td>\n",
       "      <td>Own</td>\n",
       "      <td>0</td>\n",
       "      <td>35911</td>\n",
       "      <td>Paid</td>\n",
       "      <td>(10, 30]</td>\n",
       "    </tr>\n",
       "    <tr>\n",
       "      <th>1997</th>\n",
       "      <td>34</td>\n",
       "      <td>M</td>\n",
       "      <td>5</td>\n",
       "      <td>Unemployed</td>\n",
       "      <td>UK</td>\n",
       "      <td>6530</td>\n",
       "      <td>RG18 9PH</td>\n",
       "      <td>41500</td>\n",
       "      <td>Own</td>\n",
       "      <td>2</td>\n",
       "      <td>6874</td>\n",
       "      <td>Paid</td>\n",
       "      <td>(30, 50]</td>\n",
       "    </tr>\n",
       "    <tr>\n",
       "      <th>1998</th>\n",
       "      <td>52</td>\n",
       "      <td>F</td>\n",
       "      <td>2</td>\n",
       "      <td>Employed</td>\n",
       "      <td>UK</td>\n",
       "      <td>930</td>\n",
       "      <td>RG40 2JX</td>\n",
       "      <td>32500</td>\n",
       "      <td>Own</td>\n",
       "      <td>0</td>\n",
       "      <td>5412</td>\n",
       "      <td>Paid</td>\n",
       "      <td>(50, 70]</td>\n",
       "    </tr>\n",
       "    <tr>\n",
       "      <th>1999</th>\n",
       "      <td>42</td>\n",
       "      <td>M</td>\n",
       "      <td>3</td>\n",
       "      <td>Self Employed</td>\n",
       "      <td>UK</td>\n",
       "      <td>10</td>\n",
       "      <td>RG6 5SJ</td>\n",
       "      <td>49000</td>\n",
       "      <td>Own</td>\n",
       "      <td>0</td>\n",
       "      <td>3835</td>\n",
       "      <td>Defaulted</td>\n",
       "      <td>(30, 50]</td>\n",
       "    </tr>\n",
       "  </tbody>\n",
       "</table>\n",
       "<p>2000 rows × 13 columns</p>\n",
       "</div>"
      ],
      "text/plain": [
       "      Age Gender  Years at Address Employment Status Country  Current Debt  \\\n",
       "0      19      S                 2        Unemployed      UK             0   \n",
       "1      66      F                13        Unemployed      UK          1080   \n",
       "2      48      F                 4     Self Employed      UK          3690   \n",
       "3      67      F                47     Self Employed      UK          6560   \n",
       "4      70      M                 8     Self Employed      UK          9100   \n",
       "...   ...    ...               ...               ...     ...           ...   \n",
       "1995   60      F                 4     Self Employed      UK          2900   \n",
       "1996   24      F                 7     Self Employed      UK          5130   \n",
       "1997   34      M                 5        Unemployed      UK          6530   \n",
       "1998   52      F                 2          Employed      UK           930   \n",
       "1999   42      M                 3     Self Employed      UK            10   \n",
       "\n",
       "      Postcode  Income   Housing  CCJs  Loan Amount    Outcome Age Group  \n",
       "0      TA3 7SH   45500      Rent     1        13234       Paid  (10, 30]  \n",
       "1      WV6 8SU   18000       Own     0         5561       Paid  (50, 70]  \n",
       "2     BT15 5HG   47500      Rent     1        28288       Paid  (30, 50]  \n",
       "3     GU10 3NH   36000  Mortgage     0        30199       Paid  (50, 70]  \n",
       "4      GL6 6UB   50500       Own     0        35078       Paid  (50, 70]  \n",
       "...        ...     ...       ...   ...          ...        ...       ...  \n",
       "1995   PR4 4RF   22500       Own     1        15725       Paid  (50, 70]  \n",
       "1996   PR7 5PA   38000       Own     0        35911       Paid  (10, 30]  \n",
       "1997  RG18 9PH   41500       Own     2         6874       Paid  (30, 50]  \n",
       "1998  RG40 2JX   32500       Own     0         5412       Paid  (50, 70]  \n",
       "1999   RG6 5SJ   49000       Own     0         3835  Defaulted  (30, 50]  \n",
       "\n",
       "[2000 rows x 13 columns]"
      ]
     },
     "execution_count": 12,
     "metadata": {},
     "output_type": "execute_result"
    }
   ],
   "source": [
    "data.rename({'Years at address': 'Years at Address', 'Employment status': 'Employment Status', 'Current debt': 'Current Debt', 'Own home': 'Housing', 'Loan amount': 'Loan Amount'}, axis=1, inplace=True)\n",
    "data"
   ]
  },
  {
   "cell_type": "markdown",
   "metadata": {},
   "source": [
    "### Numerical Variables/Features"
   ]
  },
  {
   "cell_type": "code",
   "execution_count": 13,
   "metadata": {},
   "outputs": [
    {
     "data": {
      "text/plain": [
       "['Age', 'Years at Address', 'Current Debt', 'Income', 'CCJs', 'Loan Amount']"
      ]
     },
     "execution_count": 13,
     "metadata": {},
     "output_type": "execute_result"
    }
   ],
   "source": [
    "numerical_features = [feature for feature in data.columns if data[feature].dtype not in ['object', 'category']]\n",
    "numerical_features"
   ]
  },
  {
   "cell_type": "code",
   "execution_count": 14,
   "metadata": {},
   "outputs": [
    {
     "name": "stdout",
     "output_type": "stream",
     "text": [
      "<class 'pandas.core.frame.DataFrame'>\n",
      "RangeIndex: 2000 entries, 0 to 1999\n",
      "Data columns (total 6 columns):\n",
      " #   Column            Non-Null Count  Dtype\n",
      "---  ------            --------------  -----\n",
      " 0   Age               2000 non-null   int64\n",
      " 1   Years at Address  2000 non-null   int64\n",
      " 2   Current Debt      2000 non-null   int64\n",
      " 3   Income            2000 non-null   int64\n",
      " 4   CCJs              2000 non-null   int64\n",
      " 5   Loan Amount       2000 non-null   int64\n",
      "dtypes: int64(6)\n",
      "memory usage: 93.9 KB\n"
     ]
    }
   ],
   "source": [
    "data[numerical_features].info()"
   ]
  },
  {
   "cell_type": "markdown",
   "metadata": {},
   "source": [
    "#### Discrete Numerical Features\n",
    "* Graphs normally used with discrete variables: Bar Chart, Box-and-Wisker Plots"
   ]
  },
  {
   "cell_type": "code",
   "execution_count": 15,
   "metadata": {},
   "outputs": [
    {
     "name": "stdout",
     "output_type": "stream",
     "text": [
      "Number of discrete features: 5\n"
     ]
    }
   ],
   "source": [
    "discrete_features = [feature for feature in numerical_features if feature not in 'Age']\n",
    "print(f'Number of discrete features: {len(discrete_features)}')"
   ]
  },
  {
   "cell_type": "markdown",
   "metadata": {},
   "source": [
    "#### Continuous Numerical Features\n",
    "* Graphs used with continuous features: Line Graph, Histograms"
   ]
  },
  {
   "cell_type": "code",
   "execution_count": 16,
   "metadata": {},
   "outputs": [
    {
     "data": {
      "text/plain": [
       "['Age']"
      ]
     },
     "execution_count": 16,
     "metadata": {},
     "output_type": "execute_result"
    }
   ],
   "source": [
    "continuous_features = [feature for feature in numerical_features if feature not in discrete_features]\n",
    "continuous_features"
   ]
  },
  {
   "cell_type": "markdown",
   "metadata": {},
   "source": [
    "#### Handling Missing Values"
   ]
  },
  {
   "cell_type": "code",
   "execution_count": 17,
   "metadata": {},
   "outputs": [
    {
     "data": {
      "text/plain": [
       "[]"
      ]
     },
     "execution_count": 17,
     "metadata": {},
     "output_type": "execute_result"
    }
   ],
   "source": [
    "numerical_features_with_na = [feature for feature in numerical_features if data[feature].isnull().sum() > 1]\n",
    "numerical_features_with_na"
   ]
  },
  {
   "cell_type": "markdown",
   "metadata": {},
   "source": [
    "#### Depict Relationship Between Variables"
   ]
  },
  {
   "cell_type": "code",
   "execution_count": 18,
   "metadata": {},
   "outputs": [
    {
     "data": {
      "image/png": "[encoded data removed]",
      "text/plain": [
       "<Figure size 432x288 with 1 Axes>"
      ]
     },
     "metadata": {
      "needs_background": "light"
     },
     "output_type": "display_data"
    },
    {
     "data": {
      "image/png": "[encoded data removed]",
      "text/plain": [
       "<Figure size 432x288 with 1 Axes>"
      ]
     },
     "metadata": {
      "needs_background": "light"
     },
     "output_type": "display_data"
    },
    {
     "data": {
      "image/png": "[encoded data removed]",
      "text/plain": [
       "<Figure size 432x288 with 1 Axes>"
      ]
     },
     "metadata": {
      "needs_background": "light"
     },
     "output_type": "display_data"
    },
    {
     "data": {
      "image/png": "[encoded data removed]",
      "text/plain": [
       "<Figure size 432x288 with 1 Axes>"
      ]
     },
     "metadata": {
      "needs_background": "light"
     },
     "output_type": "display_data"
    },
    {
     "data": {
      "image/png": "[encoded data removed]",
      "text/plain": [
       "<Figure size 432x288 with 1 Axes>"
      ]
     },
     "metadata": {
      "needs_background": "light"
     },
     "output_type": "display_data"
    }
   ],
   "source": [
    "# Scatter plot is used to dipict relationship between two numerical variables\n",
    "for feature in numerical_features:\n",
    "    if feature not in 'Income':\n",
    "        sns.scatterplot(x=data['Income'], y=feature, data=data)\n",
    "        plt.xlabel('Income')\n",
    "        plt.ylabel(feature)\n",
    "        plt.legend(f'Income vs {feature}')\n",
    "        plt.show()\n",
    "\n",
    "\n"
   ]
  },
  {
   "cell_type": "markdown",
   "metadata": {},
   "source": [
    "#### Identify Outliers"
   ]
  },
  {
   "cell_type": "code",
   "execution_count": 19,
   "metadata": {},
   "outputs": [
    {
     "data": {
      "text/html": [
       "<div>\n",
       "<style scoped>\n",
       "    .dataframe tbody tr th:only-of-type {\n",
       "        vertical-align: middle;\n",
       "    }\n",
       "\n",
       "    .dataframe tbody tr th {\n",
       "        vertical-align: top;\n",
       "    }\n",
       "\n",
       "    .dataframe thead th {\n",
       "        text-align: right;\n",
       "    }\n",
       "</style>\n",
       "<table border=\"1\" class=\"dataframe\">\n",
       "  <thead>\n",
       "    <tr style=\"text-align: right;\">\n",
       "      <th></th>\n",
       "      <th>Age</th>\n",
       "      <th>Years at Address</th>\n",
       "      <th>Current Debt</th>\n",
       "      <th>Income</th>\n",
       "      <th>CCJs</th>\n",
       "      <th>Loan Amount</th>\n",
       "    </tr>\n",
       "  </thead>\n",
       "  <tbody>\n",
       "    <tr>\n",
       "      <th>count</th>\n",
       "      <td>2000.000000</td>\n",
       "      <td>2000.000000</td>\n",
       "      <td>2000.000000</td>\n",
       "      <td>2000.000000</td>\n",
       "      <td>2000.00000</td>\n",
       "      <td>2000.000000</td>\n",
       "    </tr>\n",
       "    <tr>\n",
       "      <th>mean</th>\n",
       "      <td>52.912000</td>\n",
       "      <td>18.525500</td>\n",
       "      <td>3309.325000</td>\n",
       "      <td>38319.000000</td>\n",
       "      <td>1.05250</td>\n",
       "      <td>18929.627500</td>\n",
       "    </tr>\n",
       "    <tr>\n",
       "      <th>std</th>\n",
       "      <td>20.991226</td>\n",
       "      <td>23.201541</td>\n",
       "      <td>2980.628888</td>\n",
       "      <td>12786.506027</td>\n",
       "      <td>2.46856</td>\n",
       "      <td>12853.188862</td>\n",
       "    </tr>\n",
       "    <tr>\n",
       "      <th>min</th>\n",
       "      <td>17.000000</td>\n",
       "      <td>1.000000</td>\n",
       "      <td>0.000000</td>\n",
       "      <td>3000.000000</td>\n",
       "      <td>0.00000</td>\n",
       "      <td>13.000000</td>\n",
       "    </tr>\n",
       "    <tr>\n",
       "      <th>25%</th>\n",
       "      <td>35.000000</td>\n",
       "      <td>5.000000</td>\n",
       "      <td>650.000000</td>\n",
       "      <td>30000.000000</td>\n",
       "      <td>0.00000</td>\n",
       "      <td>8010.000000</td>\n",
       "    </tr>\n",
       "    <tr>\n",
       "      <th>50%</th>\n",
       "      <td>53.000000</td>\n",
       "      <td>13.000000</td>\n",
       "      <td>2450.000000</td>\n",
       "      <td>40000.000000</td>\n",
       "      <td>1.00000</td>\n",
       "      <td>17148.000000</td>\n",
       "    </tr>\n",
       "    <tr>\n",
       "      <th>75%</th>\n",
       "      <td>70.000000</td>\n",
       "      <td>28.000000</td>\n",
       "      <td>5512.500000</td>\n",
       "      <td>48000.000000</td>\n",
       "      <td>2.00000</td>\n",
       "      <td>27913.500000</td>\n",
       "    </tr>\n",
       "    <tr>\n",
       "      <th>max</th>\n",
       "      <td>89.000000</td>\n",
       "      <td>560.000000</td>\n",
       "      <td>9980.000000</td>\n",
       "      <td>220000.000000</td>\n",
       "      <td>100.00000</td>\n",
       "      <td>54455.000000</td>\n",
       "    </tr>\n",
       "  </tbody>\n",
       "</table>\n",
       "</div>"
      ],
      "text/plain": [
       "               Age  Years at Address  Current Debt         Income        CCJs  \\\n",
       "count  2000.000000       2000.000000   2000.000000    2000.000000  2000.00000   \n",
       "mean     52.912000         18.525500   3309.325000   38319.000000     1.05250   \n",
       "std      20.991226         23.201541   2980.628888   12786.506027     2.46856   \n",
       "min      17.000000          1.000000      0.000000    3000.000000     0.00000   \n",
       "25%      35.000000          5.000000    650.000000   30000.000000     0.00000   \n",
       "50%      53.000000         13.000000   2450.000000   40000.000000     1.00000   \n",
       "75%      70.000000         28.000000   5512.500000   48000.000000     2.00000   \n",
       "max      89.000000        560.000000   9980.000000  220000.000000   100.00000   \n",
       "\n",
       "        Loan Amount  \n",
       "count   2000.000000  \n",
       "mean   18929.627500  \n",
       "std    12853.188862  \n",
       "min       13.000000  \n",
       "25%     8010.000000  \n",
       "50%    17148.000000  \n",
       "75%    27913.500000  \n",
       "max    54455.000000  "
      ]
     },
     "execution_count": 19,
     "metadata": {},
     "output_type": "execute_result"
    }
   ],
   "source": [
    "# Run summary statistics to detect outliers\n",
    "data[numerical_features].describe()\n"
   ]
  },
  {
   "cell_type": "code",
   "execution_count": 20,
   "metadata": {},
   "outputs": [
    {
     "data": {
      "image/png": "[encoded data removed]",
      "text/plain": [
       "<Figure size 432x288 with 1 Axes>"
      ]
     },
     "metadata": {
      "needs_background": "light"
     },
     "output_type": "display_data"
    },
    {
     "data": {
      "image/png": "[encoded data removed]",
      "text/plain": [
       "<Figure size 432x288 with 1 Axes>"
      ]
     },
     "metadata": {
      "needs_background": "light"
     },
     "output_type": "display_data"
    },
    {
     "data": {
      "image/png": "[encoded data removed]",
      "text/plain": [
       "<Figure size 432x288 with 1 Axes>"
      ]
     },
     "metadata": {
      "needs_background": "light"
     },
     "output_type": "display_data"
    },
    {
     "data": {
      "image/png": "[encoded data removed]",
      "text/plain": [
       "<Figure size 432x288 with 1 Axes>"
      ]
     },
     "metadata": {
      "needs_background": "light"
     },
     "output_type": "display_data"
    },
    {
     "data": {
      "image/png": "[encoded data removed]",
      "text/plain": [
       "<Figure size 432x288 with 1 Axes>"
      ]
     },
     "metadata": {
      "needs_background": "light"
     },
     "output_type": "display_data"
    },
    {
     "data": {
      "image/png": "[encoded data removed]",
      "text/plain": [
       "<Figure size 432x288 with 1 Axes>"
      ]
     },
     "metadata": {
      "needs_background": "light"
     },
     "output_type": "display_data"
    }
   ],
   "source": [
    "# Detect outliers by using box plot\n",
    "for feature in numerical_features:\n",
    "    plt.boxplot(data[feature])\n",
    "    plt.xlabel(feature)\n",
    "    plt.ylabel(feature)\n",
    "    plt.show()"
   ]
  },
  {
   "cell_type": "code",
   "execution_count": 21,
   "metadata": {},
   "outputs": [
    {
     "data": {
      "text/plain": [
       "Age                 False\n",
       "Years at Address     True\n",
       "Current Debt        False\n",
       "Income               True\n",
       "CCJs                 True\n",
       "Loan Amount         False\n",
       "dtype: bool"
      ]
     },
     "execution_count": 21,
     "metadata": {},
     "output_type": "execute_result"
    }
   ],
   "source": [
    "# Show points where there are outliers\n",
    "(data[numerical_features].skew() > 1) | (data[numerical_features].skew() < -1)"
   ]
  },
  {
   "cell_type": "markdown",
   "metadata": {},
   "source": [
    "#### Treat Outliers\n",
    "##### We will use quantile based flooring and capping. In this technique we will do flooring using the P10 for the lower values and do capping using the P90 for the higher values"
   ]
  },
  {
   "cell_type": "code",
   "execution_count": 22,
   "metadata": {},
   "outputs": [
    {
     "data": {
      "text/html": [
       "<div>\n",
       "<style scoped>\n",
       "    .dataframe tbody tr th:only-of-type {\n",
       "        vertical-align: middle;\n",
       "    }\n",
       "\n",
       "    .dataframe tbody tr th {\n",
       "        vertical-align: top;\n",
       "    }\n",
       "\n",
       "    .dataframe thead th {\n",
       "        text-align: right;\n",
       "    }\n",
       "</style>\n",
       "<table border=\"1\" class=\"dataframe\">\n",
       "  <thead>\n",
       "    <tr style=\"text-align: right;\">\n",
       "      <th></th>\n",
       "      <th>Age</th>\n",
       "      <th>Gender</th>\n",
       "      <th>Years at Address</th>\n",
       "      <th>Employment Status</th>\n",
       "      <th>Country</th>\n",
       "      <th>Current Debt</th>\n",
       "      <th>Postcode</th>\n",
       "      <th>Income</th>\n",
       "      <th>Housing</th>\n",
       "      <th>CCJs</th>\n",
       "      <th>Loan Amount</th>\n",
       "      <th>Outcome</th>\n",
       "      <th>Age Group</th>\n",
       "    </tr>\n",
       "  </thead>\n",
       "  <tbody>\n",
       "    <tr>\n",
       "      <th>0</th>\n",
       "      <td>19</td>\n",
       "      <td>S</td>\n",
       "      <td>2.0</td>\n",
       "      <td>Unemployed</td>\n",
       "      <td>UK</td>\n",
       "      <td>0</td>\n",
       "      <td>TA3 7SH</td>\n",
       "      <td>45500.0</td>\n",
       "      <td>Rent</td>\n",
       "      <td>1.0</td>\n",
       "      <td>13234</td>\n",
       "      <td>Paid</td>\n",
       "      <td>(10, 30]</td>\n",
       "    </tr>\n",
       "    <tr>\n",
       "      <th>1</th>\n",
       "      <td>66</td>\n",
       "      <td>F</td>\n",
       "      <td>13.0</td>\n",
       "      <td>Unemployed</td>\n",
       "      <td>UK</td>\n",
       "      <td>1080</td>\n",
       "      <td>WV6 8SU</td>\n",
       "      <td>21000.0</td>\n",
       "      <td>Own</td>\n",
       "      <td>0.0</td>\n",
       "      <td>5561</td>\n",
       "      <td>Paid</td>\n",
       "      <td>(50, 70]</td>\n",
       "    </tr>\n",
       "    <tr>\n",
       "      <th>2</th>\n",
       "      <td>48</td>\n",
       "      <td>F</td>\n",
       "      <td>4.0</td>\n",
       "      <td>Self Employed</td>\n",
       "      <td>UK</td>\n",
       "      <td>3690</td>\n",
       "      <td>BT15 5HG</td>\n",
       "      <td>47500.0</td>\n",
       "      <td>Rent</td>\n",
       "      <td>1.0</td>\n",
       "      <td>28288</td>\n",
       "      <td>Paid</td>\n",
       "      <td>(30, 50]</td>\n",
       "    </tr>\n",
       "    <tr>\n",
       "      <th>3</th>\n",
       "      <td>67</td>\n",
       "      <td>F</td>\n",
       "      <td>42.0</td>\n",
       "      <td>Self Employed</td>\n",
       "      <td>UK</td>\n",
       "      <td>6560</td>\n",
       "      <td>GU10 3NH</td>\n",
       "      <td>36000.0</td>\n",
       "      <td>Mortgage</td>\n",
       "      <td>0.0</td>\n",
       "      <td>30199</td>\n",
       "      <td>Paid</td>\n",
       "      <td>(50, 70]</td>\n",
       "    </tr>\n",
       "    <tr>\n",
       "      <th>4</th>\n",
       "      <td>70</td>\n",
       "      <td>M</td>\n",
       "      <td>8.0</td>\n",
       "      <td>Self Employed</td>\n",
       "      <td>UK</td>\n",
       "      <td>9100</td>\n",
       "      <td>GL6 6UB</td>\n",
       "      <td>50500.0</td>\n",
       "      <td>Own</td>\n",
       "      <td>0.0</td>\n",
       "      <td>35078</td>\n",
       "      <td>Paid</td>\n",
       "      <td>(50, 70]</td>\n",
       "    </tr>\n",
       "    <tr>\n",
       "      <th>...</th>\n",
       "      <td>...</td>\n",
       "      <td>...</td>\n",
       "      <td>...</td>\n",
       "      <td>...</td>\n",
       "      <td>...</td>\n",
       "      <td>...</td>\n",
       "      <td>...</td>\n",
       "      <td>...</td>\n",
       "      <td>...</td>\n",
       "      <td>...</td>\n",
       "      <td>...</td>\n",
       "      <td>...</td>\n",
       "      <td>...</td>\n",
       "    </tr>\n",
       "    <tr>\n",
       "      <th>1995</th>\n",
       "      <td>60</td>\n",
       "      <td>F</td>\n",
       "      <td>4.0</td>\n",
       "      <td>Self Employed</td>\n",
       "      <td>UK</td>\n",
       "      <td>2900</td>\n",
       "      <td>PR4 4RF</td>\n",
       "      <td>22500.0</td>\n",
       "      <td>Own</td>\n",
       "      <td>1.0</td>\n",
       "      <td>15725</td>\n",
       "      <td>Paid</td>\n",
       "      <td>(50, 70]</td>\n",
       "    </tr>\n",
       "    <tr>\n",
       "      <th>1996</th>\n",
       "      <td>24</td>\n",
       "      <td>F</td>\n",
       "      <td>7.0</td>\n",
       "      <td>Self Employed</td>\n",
       "      <td>UK</td>\n",
       "      <td>5130</td>\n",
       "      <td>PR7 5PA</td>\n",
       "      <td>38000.0</td>\n",
       "      <td>Own</td>\n",
       "      <td>0.0</td>\n",
       "      <td>35911</td>\n",
       "      <td>Paid</td>\n",
       "      <td>(10, 30]</td>\n",
       "    </tr>\n",
       "    <tr>\n",
       "      <th>1997</th>\n",
       "      <td>34</td>\n",
       "      <td>M</td>\n",
       "      <td>5.0</td>\n",
       "      <td>Unemployed</td>\n",
       "      <td>UK</td>\n",
       "      <td>6530</td>\n",
       "      <td>RG18 9PH</td>\n",
       "      <td>41500.0</td>\n",
       "      <td>Own</td>\n",
       "      <td>2.0</td>\n",
       "      <td>6874</td>\n",
       "      <td>Paid</td>\n",
       "      <td>(30, 50]</td>\n",
       "    </tr>\n",
       "    <tr>\n",
       "      <th>1998</th>\n",
       "      <td>52</td>\n",
       "      <td>F</td>\n",
       "      <td>2.0</td>\n",
       "      <td>Employed</td>\n",
       "      <td>UK</td>\n",
       "      <td>930</td>\n",
       "      <td>RG40 2JX</td>\n",
       "      <td>32500.0</td>\n",
       "      <td>Own</td>\n",
       "      <td>0.0</td>\n",
       "      <td>5412</td>\n",
       "      <td>Paid</td>\n",
       "      <td>(50, 70]</td>\n",
       "    </tr>\n",
       "    <tr>\n",
       "      <th>1999</th>\n",
       "      <td>42</td>\n",
       "      <td>M</td>\n",
       "      <td>3.0</td>\n",
       "      <td>Self Employed</td>\n",
       "      <td>UK</td>\n",
       "      <td>10</td>\n",
       "      <td>RG6 5SJ</td>\n",
       "      <td>49000.0</td>\n",
       "      <td>Own</td>\n",
       "      <td>0.0</td>\n",
       "      <td>3835</td>\n",
       "      <td>Defaulted</td>\n",
       "      <td>(30, 50]</td>\n",
       "    </tr>\n",
       "  </tbody>\n",
       "</table>\n",
       "<p>2000 rows × 13 columns</p>\n",
       "</div>"
      ],
      "text/plain": [
       "      Age Gender  Years at Address Employment Status Country  Current Debt  \\\n",
       "0      19      S               2.0        Unemployed      UK             0   \n",
       "1      66      F              13.0        Unemployed      UK          1080   \n",
       "2      48      F               4.0     Self Employed      UK          3690   \n",
       "3      67      F              42.0     Self Employed      UK          6560   \n",
       "4      70      M               8.0     Self Employed      UK          9100   \n",
       "...   ...    ...               ...               ...     ...           ...   \n",
       "1995   60      F               4.0     Self Employed      UK          2900   \n",
       "1996   24      F               7.0     Self Employed      UK          5130   \n",
       "1997   34      M               5.0        Unemployed      UK          6530   \n",
       "1998   52      F               2.0          Employed      UK           930   \n",
       "1999   42      M               3.0     Self Employed      UK            10   \n",
       "\n",
       "      Postcode   Income   Housing  CCJs  Loan Amount    Outcome Age Group  \n",
       "0      TA3 7SH  45500.0      Rent   1.0        13234       Paid  (10, 30]  \n",
       "1      WV6 8SU  21000.0       Own   0.0         5561       Paid  (50, 70]  \n",
       "2     BT15 5HG  47500.0      Rent   1.0        28288       Paid  (30, 50]  \n",
       "3     GU10 3NH  36000.0  Mortgage   0.0        30199       Paid  (50, 70]  \n",
       "4      GL6 6UB  50500.0       Own   0.0        35078       Paid  (50, 70]  \n",
       "...        ...      ...       ...   ...          ...        ...       ...  \n",
       "1995   PR4 4RF  22500.0       Own   1.0        15725       Paid  (50, 70]  \n",
       "1996   PR7 5PA  38000.0       Own   0.0        35911       Paid  (10, 30]  \n",
       "1997  RG18 9PH  41500.0       Own   2.0         6874       Paid  (30, 50]  \n",
       "1998  RG40 2JX  32500.0       Own   0.0         5412       Paid  (50, 70]  \n",
       "1999   RG6 5SJ  49000.0       Own   0.0         3835  Defaulted  (30, 50]  \n",
       "\n",
       "[2000 rows x 13 columns]"
      ]
     },
     "execution_count": 22,
     "metadata": {},
     "output_type": "execute_result"
    }
   ],
   "source": [
    "for feature in numerical_features:\n",
    "    if (data[feature].skew() > 1) | (data[feature].skew() < -1):\n",
    "        P10 = data[feature].quantile(0.10)\n",
    "        P90 = data[feature].quantile(0.90)\n",
    "        data[feature] = np.where(data[feature] < P10, P10, data[feature])\n",
    "        data[feature] = np.where(data[feature] > P90, P90, data[feature])\n",
    "data"
   ]
  },
  {
   "cell_type": "code",
   "execution_count": 23,
   "metadata": {},
   "outputs": [
    {
     "data": {
      "text/html": [
       "<div>\n",
       "<style scoped>\n",
       "    .dataframe tbody tr th:only-of-type {\n",
       "        vertical-align: middle;\n",
       "    }\n",
       "\n",
       "    .dataframe tbody tr th {\n",
       "        vertical-align: top;\n",
       "    }\n",
       "\n",
       "    .dataframe thead th {\n",
       "        text-align: right;\n",
       "    }\n",
       "</style>\n",
       "<table border=\"1\" class=\"dataframe\">\n",
       "  <thead>\n",
       "    <tr style=\"text-align: right;\">\n",
       "      <th></th>\n",
       "      <th>Age</th>\n",
       "      <th>Years at Address</th>\n",
       "      <th>Current Debt</th>\n",
       "      <th>Income</th>\n",
       "      <th>CCJs</th>\n",
       "      <th>Loan Amount</th>\n",
       "    </tr>\n",
       "  </thead>\n",
       "  <tbody>\n",
       "    <tr>\n",
       "      <th>count</th>\n",
       "      <td>2000.000000</td>\n",
       "      <td>2000.000000</td>\n",
       "      <td>2000.000000</td>\n",
       "      <td>2000.00000</td>\n",
       "      <td>2000.000000</td>\n",
       "      <td>2000.000000</td>\n",
       "    </tr>\n",
       "    <tr>\n",
       "      <th>mean</th>\n",
       "      <td>52.912000</td>\n",
       "      <td>16.969500</td>\n",
       "      <td>3309.325000</td>\n",
       "      <td>38565.00000</td>\n",
       "      <td>1.000500</td>\n",
       "      <td>18929.627500</td>\n",
       "    </tr>\n",
       "    <tr>\n",
       "      <th>std</th>\n",
       "      <td>20.991226</td>\n",
       "      <td>13.582298</td>\n",
       "      <td>2980.628888</td>\n",
       "      <td>10479.58424</td>\n",
       "      <td>1.075676</td>\n",
       "      <td>12853.188862</td>\n",
       "    </tr>\n",
       "    <tr>\n",
       "      <th>min</th>\n",
       "      <td>17.000000</td>\n",
       "      <td>2.000000</td>\n",
       "      <td>0.000000</td>\n",
       "      <td>21000.00000</td>\n",
       "      <td>0.000000</td>\n",
       "      <td>13.000000</td>\n",
       "    </tr>\n",
       "    <tr>\n",
       "      <th>25%</th>\n",
       "      <td>35.000000</td>\n",
       "      <td>5.000000</td>\n",
       "      <td>650.000000</td>\n",
       "      <td>30000.00000</td>\n",
       "      <td>0.000000</td>\n",
       "      <td>8010.000000</td>\n",
       "    </tr>\n",
       "    <tr>\n",
       "      <th>50%</th>\n",
       "      <td>53.000000</td>\n",
       "      <td>13.000000</td>\n",
       "      <td>2450.000000</td>\n",
       "      <td>40000.00000</td>\n",
       "      <td>1.000000</td>\n",
       "      <td>17148.000000</td>\n",
       "    </tr>\n",
       "    <tr>\n",
       "      <th>75%</th>\n",
       "      <td>70.000000</td>\n",
       "      <td>28.000000</td>\n",
       "      <td>5512.500000</td>\n",
       "      <td>48000.00000</td>\n",
       "      <td>2.000000</td>\n",
       "      <td>27913.500000</td>\n",
       "    </tr>\n",
       "    <tr>\n",
       "      <th>max</th>\n",
       "      <td>89.000000</td>\n",
       "      <td>42.000000</td>\n",
       "      <td>9980.000000</td>\n",
       "      <td>52000.00000</td>\n",
       "      <td>3.000000</td>\n",
       "      <td>54455.000000</td>\n",
       "    </tr>\n",
       "  </tbody>\n",
       "</table>\n",
       "</div>"
      ],
      "text/plain": [
       "               Age  Years at Address  Current Debt       Income         CCJs  \\\n",
       "count  2000.000000       2000.000000   2000.000000   2000.00000  2000.000000   \n",
       "mean     52.912000         16.969500   3309.325000  38565.00000     1.000500   \n",
       "std      20.991226         13.582298   2980.628888  10479.58424     1.075676   \n",
       "min      17.000000          2.000000      0.000000  21000.00000     0.000000   \n",
       "25%      35.000000          5.000000    650.000000  30000.00000     0.000000   \n",
       "50%      53.000000         13.000000   2450.000000  40000.00000     1.000000   \n",
       "75%      70.000000         28.000000   5512.500000  48000.00000     2.000000   \n",
       "max      89.000000         42.000000   9980.000000  52000.00000     3.000000   \n",
       "\n",
       "        Loan Amount  \n",
       "count   2000.000000  \n",
       "mean   18929.627500  \n",
       "std    12853.188862  \n",
       "min       13.000000  \n",
       "25%     8010.000000  \n",
       "50%    17148.000000  \n",
       "75%    27913.500000  \n",
       "max    54455.000000  "
      ]
     },
     "execution_count": 23,
     "metadata": {},
     "output_type": "execute_result"
    }
   ],
   "source": [
    "data.describe()"
   ]
  },
  {
   "cell_type": "code",
   "execution_count": 24,
   "metadata": {},
   "outputs": [
    {
     "data": {
      "image/png": "[encoded data removed]",
      "text/plain": [
       "<Figure size 432x288 with 1 Axes>"
      ]
     },
     "metadata": {
      "needs_background": "light"
     },
     "output_type": "display_data"
    },
    {
     "data": {
      "image/png": "[encoded data removed]",
      "text/plain": [
       "<Figure size 432x288 with 1 Axes>"
      ]
     },
     "metadata": {
      "needs_background": "light"
     },
     "output_type": "display_data"
    },
    {
     "data": {
      "image/png": "[encoded data removed]",
      "text/plain": [
       "<Figure size 432x288 with 1 Axes>"
      ]
     },
     "metadata": {
      "needs_background": "light"
     },
     "output_type": "display_data"
    },
    {
     "data": {
      "image/png": "[encoded data removed]",
      "text/plain": [
       "<Figure size 432x288 with 1 Axes>"
      ]
     },
     "metadata": {
      "needs_background": "light"
     },
     "output_type": "display_data"
    },
    {
     "data": {
      "image/png": "[encoded data removed]",
      "text/plain": [
       "<Figure size 432x288 with 1 Axes>"
      ]
     },
     "metadata": {
      "needs_background": "light"
     },
     "output_type": "display_data"
    },
    {
     "data": {
      "image/png": "[encoded data removed]",
      "text/plain": [
       "<Figure size 432x288 with 1 Axes>"
      ]
     },
     "metadata": {
      "needs_background": "light"
     },
     "output_type": "display_data"
    }
   ],
   "source": [
    "for feature in numerical_features:\n",
    "    plt.boxplot(data[feature])\n",
    "    plt.xlabel(feature)\n",
    "    plt.ylabel(feature)\n",
    "    plt.show()"
   ]
  },
  {
   "cell_type": "code",
   "execution_count": 25,
   "metadata": {},
   "outputs": [
    {
     "data": {
      "text/html": [
       "<div>\n",
       "<style scoped>\n",
       "    .dataframe tbody tr th:only-of-type {\n",
       "        vertical-align: middle;\n",
       "    }\n",
       "\n",
       "    .dataframe tbody tr th {\n",
       "        vertical-align: top;\n",
       "    }\n",
       "\n",
       "    .dataframe thead th {\n",
       "        text-align: right;\n",
       "    }\n",
       "</style>\n",
       "<table border=\"1\" class=\"dataframe\">\n",
       "  <thead>\n",
       "    <tr style=\"text-align: right;\">\n",
       "      <th></th>\n",
       "      <th>Gender</th>\n",
       "      <th>Employment Status</th>\n",
       "      <th>Country</th>\n",
       "      <th>Postcode</th>\n",
       "      <th>Housing</th>\n",
       "    </tr>\n",
       "  </thead>\n",
       "  <tbody>\n",
       "    <tr>\n",
       "      <th>0</th>\n",
       "      <td>S</td>\n",
       "      <td>Unemployed</td>\n",
       "      <td>UK</td>\n",
       "      <td>TA3 7SH</td>\n",
       "      <td>Rent</td>\n",
       "    </tr>\n",
       "    <tr>\n",
       "      <th>1</th>\n",
       "      <td>F</td>\n",
       "      <td>Unemployed</td>\n",
       "      <td>UK</td>\n",
       "      <td>WV6 8SU</td>\n",
       "      <td>Own</td>\n",
       "    </tr>\n",
       "    <tr>\n",
       "      <th>2</th>\n",
       "      <td>F</td>\n",
       "      <td>Self Employed</td>\n",
       "      <td>UK</td>\n",
       "      <td>BT15 5HG</td>\n",
       "      <td>Rent</td>\n",
       "    </tr>\n",
       "    <tr>\n",
       "      <th>3</th>\n",
       "      <td>F</td>\n",
       "      <td>Self Employed</td>\n",
       "      <td>UK</td>\n",
       "      <td>GU10 3NH</td>\n",
       "      <td>Mortgage</td>\n",
       "    </tr>\n",
       "    <tr>\n",
       "      <th>4</th>\n",
       "      <td>M</td>\n",
       "      <td>Self Employed</td>\n",
       "      <td>UK</td>\n",
       "      <td>GL6 6UB</td>\n",
       "      <td>Own</td>\n",
       "    </tr>\n",
       "    <tr>\n",
       "      <th>...</th>\n",
       "      <td>...</td>\n",
       "      <td>...</td>\n",
       "      <td>...</td>\n",
       "      <td>...</td>\n",
       "      <td>...</td>\n",
       "    </tr>\n",
       "    <tr>\n",
       "      <th>1995</th>\n",
       "      <td>F</td>\n",
       "      <td>Self Employed</td>\n",
       "      <td>UK</td>\n",
       "      <td>PR4 4RF</td>\n",
       "      <td>Own</td>\n",
       "    </tr>\n",
       "    <tr>\n",
       "      <th>1996</th>\n",
       "      <td>F</td>\n",
       "      <td>Self Employed</td>\n",
       "      <td>UK</td>\n",
       "      <td>PR7 5PA</td>\n",
       "      <td>Own</td>\n",
       "    </tr>\n",
       "    <tr>\n",
       "      <th>1997</th>\n",
       "      <td>M</td>\n",
       "      <td>Unemployed</td>\n",
       "      <td>UK</td>\n",
       "      <td>RG18 9PH</td>\n",
       "      <td>Own</td>\n",
       "    </tr>\n",
       "    <tr>\n",
       "      <th>1998</th>\n",
       "      <td>F</td>\n",
       "      <td>Employed</td>\n",
       "      <td>UK</td>\n",
       "      <td>RG40 2JX</td>\n",
       "      <td>Own</td>\n",
       "    </tr>\n",
       "    <tr>\n",
       "      <th>1999</th>\n",
       "      <td>M</td>\n",
       "      <td>Self Employed</td>\n",
       "      <td>UK</td>\n",
       "      <td>RG6 5SJ</td>\n",
       "      <td>Own</td>\n",
       "    </tr>\n",
       "  </tbody>\n",
       "</table>\n",
       "<p>2000 rows × 5 columns</p>\n",
       "</div>"
      ],
      "text/plain": [
       "     Gender Employment Status Country  Postcode   Housing\n",
       "0         S        Unemployed      UK   TA3 7SH      Rent\n",
       "1         F        Unemployed      UK   WV6 8SU       Own\n",
       "2         F     Self Employed      UK  BT15 5HG      Rent\n",
       "3         F     Self Employed      UK  GU10 3NH  Mortgage\n",
       "4         M     Self Employed      UK   GL6 6UB       Own\n",
       "...     ...               ...     ...       ...       ...\n",
       "1995      F     Self Employed      UK   PR4 4RF       Own\n",
       "1996      F     Self Employed      UK   PR7 5PA       Own\n",
       "1997      M        Unemployed      UK  RG18 9PH       Own\n",
       "1998      F          Employed      UK  RG40 2JX       Own\n",
       "1999      M     Self Employed      UK   RG6 5SJ       Own\n",
       "\n",
       "[2000 rows x 5 columns]"
      ]
     },
     "execution_count": 25,
     "metadata": {},
     "output_type": "execute_result"
    }
   ],
   "source": [
    "categorical_features = [feature for feature in data.columns if feature not in numerical_features+['Outcome', 'Age Group']]\n",
    "data[categorical_features]"
   ]
  },
  {
   "cell_type": "markdown",
   "metadata": {},
   "source": [
    "#### Check for NAN values in categorical features"
   ]
  },
  {
   "cell_type": "code",
   "execution_count": 26,
   "metadata": {},
   "outputs": [
    {
     "name": "stdout",
     "output_type": "stream",
     "text": [
      "Number of categories for Gender : 10\n",
      "Number of categories for Employment Status : 4\n",
      "Number of categories for Country : 4\n",
      "Number of categories for Postcode : 1971\n",
      "Number of categories for Housing : 3\n"
     ]
    }
   ],
   "source": [
    "categorical_features_with_na = [feature for feature in categorical_features if data[feature].isnull().sum() > 1]\n",
    "categorical_features_with_na"
   ]
  },
  {
   "cell_type": "code",
   "execution_count": 27,
   "metadata": {},
   "outputs": [
    {
     "name": "stdout",
     "output_type": "stream",
     "text": [
      "Number of categories for Gender : 10\n",
      "Number of categories for Employment Status : 4\n",
      "Number of categories for Country : 4\n",
      "Number of categories for Postcode : 1971\n",
      "Number of categories for Housing : 3\n"
     ]
    }
   ],
   "source": [
    "for feature in categorical_features:\n",
    "    print(f'Number of categories for {feature} : {data[feature].nunique()}')\n"
   ]
  },
  {
   "cell_type": "markdown",
   "metadata": {},
   "source": [
    "#### Handle missing values in categorical features"
   ]
  },
  {
   "cell_type": "code",
   "execution_count": 32,
   "metadata": {},
   "outputs": [
    {
     "data": {
      "text/plain": [
       "M    1029\n",
       "F     971\n",
       "Name: Gender, dtype: int64"
      ]
     },
     "execution_count": 32,
     "metadata": {},
     "output_type": "execute_result"
    }
   ],
   "source": [
    "# Replace inconsistent value format with correct one\n",
    "data['Gender'] = data['Gender'].replace(['Female', 'Male'], ['F', 'M'])\n",
    "\n",
    "# Replace wrong entries with NaN first\n",
    "data['Gender'] = data['Gender'].replace(['H', 'N', '1', 'S', 'D', '0'], np.nan)\n",
    "\n",
    "# Replace NaN values with the most frequent value\n",
    "data['Gender'] = data['Gender'].fillna(data['Gender'].mode().iloc[0])\n",
    "data['Gender'].value_counts(dropna=False)"
   ]
  },
  {
   "cell_type": "code",
   "execution_count": null,
   "metadata": {},
   "outputs": [],
   "source": []
  }
 ],
 "metadata": {
  "interpreter": {
   "hash": "30184ffd7a4e87ec2e6f679ce4f1a2c3d60dde26b37d657b1495802c63f59cd3"
  },
  "kernelspec": {
   "display_name": "Python 3.10.2 64-bit",
   "language": "python",
   "name": "python3"
  },
  "language_info": {
   "codemirror_mode": {
    "name": "ipython",
    "version": 3
   },
   "file_extension": ".py",
   "mimetype": "text/x-python",
   "name": "python",
   "nbconvert_exporter": "python",
   "pygments_lexer": "ipython3",
   "version": "3.10.2"
  },
  "orig_nbformat": 4
 },
 "nbformat": 4,
 "nbformat_minor": 2
}
