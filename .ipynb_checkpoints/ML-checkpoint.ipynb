{
 "cells": [
  {
   "cell_type": "code",
   "execution_count": 65,
   "id": "524a3726",
   "metadata": {},
   "outputs": [],
   "source": [
    "import pandas as pd\n",
    "import numpy as np\n",
    "from sklearn.model_selection import train_test_split, cross_val_score\n",
    "from sklearn.preprocessing import OneHotEncoder, StandardScaler\n",
    "from sklearn.ensemble import RandomForestClassifier"
   ]
  },
  {
   "cell_type": "code",
   "execution_count": 20,
   "id": "4dbe3819",
   "metadata": {},
   "outputs": [
    {
     "data": {
      "text/html": [
       "<div>\n",
       "<style scoped>\n",
       "    .dataframe tbody tr th:only-of-type {\n",
       "        vertical-align: middle;\n",
       "    }\n",
       "\n",
       "    .dataframe tbody tr th {\n",
       "        vertical-align: top;\n",
       "    }\n",
       "\n",
       "    .dataframe thead th {\n",
       "        text-align: right;\n",
       "    }\n",
       "</style>\n",
       "<table border=\"1\" class=\"dataframe\">\n",
       "  <thead>\n",
       "    <tr style=\"text-align: right;\">\n",
       "      <th></th>\n",
       "      <th>Age</th>\n",
       "      <th>Gender</th>\n",
       "      <th>Years at Address</th>\n",
       "      <th>Employment Status</th>\n",
       "      <th>Country</th>\n",
       "      <th>Current Debt</th>\n",
       "      <th>Postcode</th>\n",
       "      <th>Income</th>\n",
       "      <th>Housing</th>\n",
       "      <th>CCJs</th>\n",
       "      <th>Loan Amount</th>\n",
       "      <th>Outcome</th>\n",
       "    </tr>\n",
       "  </thead>\n",
       "  <tbody>\n",
       "    <tr>\n",
       "      <th>0</th>\n",
       "      <td>19</td>\n",
       "      <td>M</td>\n",
       "      <td>2</td>\n",
       "      <td>Unemployed</td>\n",
       "      <td>UK</td>\n",
       "      <td>0.0</td>\n",
       "      <td>TA3 7SH</td>\n",
       "      <td>45500.0</td>\n",
       "      <td>Rent</td>\n",
       "      <td>1</td>\n",
       "      <td>13234.0</td>\n",
       "      <td>Paid</td>\n",
       "    </tr>\n",
       "    <tr>\n",
       "      <th>1</th>\n",
       "      <td>66</td>\n",
       "      <td>F</td>\n",
       "      <td>13</td>\n",
       "      <td>Unemployed</td>\n",
       "      <td>UK</td>\n",
       "      <td>1080.0</td>\n",
       "      <td>WV6 8SU</td>\n",
       "      <td>21000.0</td>\n",
       "      <td>Own</td>\n",
       "      <td>0</td>\n",
       "      <td>5561.0</td>\n",
       "      <td>Paid</td>\n",
       "    </tr>\n",
       "    <tr>\n",
       "      <th>2</th>\n",
       "      <td>48</td>\n",
       "      <td>F</td>\n",
       "      <td>4</td>\n",
       "      <td>Self Employed</td>\n",
       "      <td>UK</td>\n",
       "      <td>3690.0</td>\n",
       "      <td>BT15 5HG</td>\n",
       "      <td>47500.0</td>\n",
       "      <td>Rent</td>\n",
       "      <td>1</td>\n",
       "      <td>28288.0</td>\n",
       "      <td>Paid</td>\n",
       "    </tr>\n",
       "    <tr>\n",
       "      <th>3</th>\n",
       "      <td>67</td>\n",
       "      <td>F</td>\n",
       "      <td>42</td>\n",
       "      <td>Self Employed</td>\n",
       "      <td>UK</td>\n",
       "      <td>6560.0</td>\n",
       "      <td>GU10 3NH</td>\n",
       "      <td>36000.0</td>\n",
       "      <td>Mortgage</td>\n",
       "      <td>0</td>\n",
       "      <td>30199.0</td>\n",
       "      <td>Paid</td>\n",
       "    </tr>\n",
       "    <tr>\n",
       "      <th>4</th>\n",
       "      <td>70</td>\n",
       "      <td>M</td>\n",
       "      <td>8</td>\n",
       "      <td>Self Employed</td>\n",
       "      <td>UK</td>\n",
       "      <td>9100.0</td>\n",
       "      <td>GL6 6UB</td>\n",
       "      <td>50500.0</td>\n",
       "      <td>Own</td>\n",
       "      <td>0</td>\n",
       "      <td>35078.0</td>\n",
       "      <td>Paid</td>\n",
       "    </tr>\n",
       "  </tbody>\n",
       "</table>\n",
       "</div>"
      ],
      "text/plain": [
       "   Age Gender  Years at Address Employment Status Country  Current Debt  \\\n",
       "0   19      M                 2        Unemployed      UK           0.0   \n",
       "1   66      F                13        Unemployed      UK        1080.0   \n",
       "2   48      F                 4     Self Employed      UK        3690.0   \n",
       "3   67      F                42     Self Employed      UK        6560.0   \n",
       "4   70      M                 8     Self Employed      UK        9100.0   \n",
       "\n",
       "   Postcode   Income   Housing  CCJs  Loan Amount Outcome  \n",
       "0   TA3 7SH  45500.0      Rent     1      13234.0    Paid  \n",
       "1   WV6 8SU  21000.0       Own     0       5561.0    Paid  \n",
       "2  BT15 5HG  47500.0      Rent     1      28288.0    Paid  \n",
       "3  GU10 3NH  36000.0  Mortgage     0      30199.0    Paid  \n",
       "4   GL6 6UB  50500.0       Own     0      35078.0    Paid  "
      ]
     },
     "execution_count": 20,
     "metadata": {},
     "output_type": "execute_result"
    }
   ],
   "source": [
    "df = pd.read_csv('cleaned_dataset.csv')\n",
    "df.head()"
   ]
  },
  {
   "cell_type": "code",
   "execution_count": 49,
   "id": "076c7853",
   "metadata": {},
   "outputs": [],
   "source": [
    "X = df.drop(['Outcome', 'Postcode'], axis=1)\n",
    "y = df['Outcome']"
   ]
  },
  {
   "cell_type": "code",
   "execution_count": 79,
   "id": "2fc33c9d",
   "metadata": {},
   "outputs": [],
   "source": [
    "y = [1 if x == 'Paid' else 0 for x in y]"
   ]
  },
  {
   "cell_type": "code",
   "execution_count": 80,
   "id": "10fd85e3",
   "metadata": {},
   "outputs": [
    {
     "ename": "AttributeError",
     "evalue": "'numpy.ndarray' object has no attribute 'columns'",
     "output_type": "error",
     "traceback": [
      "\u001b[1;31m---------------------------------------------------------------------------\u001b[0m",
      "\u001b[1;31mAttributeError\u001b[0m                            Traceback (most recent call last)",
      "Input \u001b[1;32mIn [80]\u001b[0m, in \u001b[0;36m<module>\u001b[1;34m\u001b[0m\n\u001b[0;32m      1\u001b[0m categorical_features \u001b[38;5;241m=\u001b[39m []\n\u001b[0;32m      2\u001b[0m numerical_features \u001b[38;5;241m=\u001b[39m []\n\u001b[1;32m----> 4\u001b[0m \u001b[38;5;28;01mfor\u001b[39;00m feature \u001b[38;5;129;01min\u001b[39;00m \u001b[43mX\u001b[49m\u001b[38;5;241;43m.\u001b[39;49m\u001b[43mcolumns\u001b[49m:\n\u001b[0;32m      5\u001b[0m     \u001b[38;5;28;01mif\u001b[39;00m df[feature]\u001b[38;5;241m.\u001b[39mdtype \u001b[38;5;129;01min\u001b[39;00m [\u001b[38;5;124m'\u001b[39m\u001b[38;5;124mobject\u001b[39m\u001b[38;5;124m'\u001b[39m, \u001b[38;5;124m'\u001b[39m\u001b[38;5;124mcategory\u001b[39m\u001b[38;5;124m'\u001b[39m]:\n\u001b[0;32m      6\u001b[0m         categorical_features\u001b[38;5;241m.\u001b[39mappend(feature)\n",
      "\u001b[1;31mAttributeError\u001b[0m: 'numpy.ndarray' object has no attribute 'columns'"
     ]
    }
   ],
   "source": [
    "categorical_features = []\n",
    "numerical_features = []\n",
    "\n",
    "for feature in X.columns:\n",
    "    if df[feature].dtype in ['object', 'category']:\n",
    "        categorical_features.append(feature)\n",
    "    else:\n",
    "        numerical_features.append(feature)"
   ]
  },
  {
   "cell_type": "code",
   "execution_count": 51,
   "id": "ea291c6c",
   "metadata": {},
   "outputs": [
    {
     "data": {
      "text/plain": [
       "['Age', 'Years at Address', 'Current Debt', 'Income', 'CCJs', 'Loan Amount']"
      ]
     },
     "execution_count": 51,
     "metadata": {},
     "output_type": "execute_result"
    }
   ],
   "source": [
    "numerical_features"
   ]
  },
  {
   "cell_type": "code",
   "execution_count": 52,
   "id": "24e0efee",
   "metadata": {},
   "outputs": [
    {
     "data": {
      "text/plain": [
       "['Gender', 'Employment Status', 'Country', 'Housing']"
      ]
     },
     "execution_count": 52,
     "metadata": {},
     "output_type": "execute_result"
    }
   ],
   "source": [
    "categorical_features"
   ]
  },
  {
   "cell_type": "code",
   "execution_count": 31,
   "id": "cd6b2629",
   "metadata": {},
   "outputs": [],
   "source": [
    "scaler = StandardScaler().fit(X[numerical_features])"
   ]
  },
  {
   "cell_type": "code",
   "execution_count": 39,
   "id": "4e59f9a2",
   "metadata": {},
   "outputs": [
    {
     "data": {
      "text/plain": [
       "array([[-1.61593616e+00, -1.10240875e+00, -1.11055511e+00,\n",
       "         6.61928397e-01, -4.64940344e-04, -4.43240351e-01],\n",
       "       [ 6.23654530e-01, -2.92328504e-01, -7.48124850e-01,\n",
       "        -1.67653530e+00, -9.30345629e-01, -1.04036213e+00],\n",
       "       [-2.34061052e-01, -9.55121434e-01,  1.27748277e-01,\n",
       "         8.52823393e-01, -4.64940344e-04,  7.28279423e-01],\n",
       "       ...,\n",
       "       [-9.01173172e-01, -8.81477775e-01,  1.08080563e+00,\n",
       "         2.80138406e-01,  9.29415748e-01, -9.38182942e-01],\n",
       "       [-4.34575895e-02, -1.10240875e+00, -7.98462386e-01,\n",
       "        -5.78889074e-01, -9.30345629e-01, -1.05195748e+00],\n",
       "       [-5.19966246e-01, -1.02876509e+00, -1.10719927e+00,\n",
       "         9.95994640e-01, -9.30345629e-01, -1.17468145e+00]])"
      ]
     },
     "execution_count": 39,
     "metadata": {},
     "output_type": "execute_result"
    }
   ],
   "source": [
    "X_scaled = scaler.transform(X[numerical_features])\n",
    "X_scaled"
   ]
  },
  {
   "cell_type": "code",
   "execution_count": 40,
   "id": "39ea6642",
   "metadata": {},
   "outputs": [
    {
     "data": {
      "text/plain": [
       "array([3.55271368e-17, 7.10542736e-18, 6.75015599e-17, 1.77635684e-17,\n",
       "       3.55271368e-17, 1.03028697e-16])"
      ]
     },
     "execution_count": 40,
     "metadata": {},
     "output_type": "execute_result"
    }
   ],
   "source": [
    "X_scaled.mean(axis=0)"
   ]
  },
  {
   "cell_type": "code",
   "execution_count": 41,
   "id": "bebd057a",
   "metadata": {},
   "outputs": [
    {
     "data": {
      "text/plain": [
       "array([1., 1., 1., 1., 1., 1.])"
      ]
     },
     "execution_count": 41,
     "metadata": {},
     "output_type": "execute_result"
    }
   ],
   "source": [
    "X_scaled.std(axis=0)"
   ]
  },
  {
   "cell_type": "code",
   "execution_count": 42,
   "id": "3b856d2f",
   "metadata": {},
   "outputs": [
    {
     "data": {
      "text/plain": [
       "(2000, 6)"
      ]
     },
     "execution_count": 42,
     "metadata": {},
     "output_type": "execute_result"
    }
   ],
   "source": [
    "X_scaled.shape"
   ]
  },
  {
   "cell_type": "code",
   "execution_count": 46,
   "id": "8b9a5ccd",
   "metadata": {},
   "outputs": [],
   "source": [
    "y = np.array(y)"
   ]
  },
  {
   "cell_type": "code",
   "execution_count": 78,
   "id": "20cdbc79",
   "metadata": {},
   "outputs": [
    {
     "ename": "AttributeError",
     "evalue": "'list' object has no attribute 'shape'",
     "output_type": "error",
     "traceback": [
      "\u001b[1;31m---------------------------------------------------------------------------\u001b[0m",
      "\u001b[1;31mAttributeError\u001b[0m                            Traceback (most recent call last)",
      "Input \u001b[1;32mIn [78]\u001b[0m, in \u001b[0;36m<module>\u001b[1;34m\u001b[0m\n\u001b[1;32m----> 1\u001b[0m \u001b[43my\u001b[49m\u001b[38;5;241;43m.\u001b[39;49m\u001b[43mshape\u001b[49m\n",
      "\u001b[1;31mAttributeError\u001b[0m: 'list' object has no attribute 'shape'"
     ]
    }
   ],
   "source": [
    "y.shape"
   ]
  },
  {
   "cell_type": "code",
   "execution_count": 53,
   "id": "053f5b1b",
   "metadata": {},
   "outputs": [],
   "source": [
    "enc = OneHotEncoder().fit(X[categorical_features])"
   ]
  },
  {
   "cell_type": "code",
   "execution_count": 58,
   "id": "8a4ed5c6",
   "metadata": {},
   "outputs": [],
   "source": [
    "X_encoded = enc.transform(X[categorical_features]).toarray()"
   ]
  },
  {
   "cell_type": "code",
   "execution_count": 59,
   "id": "fdfaee0a",
   "metadata": {},
   "outputs": [
    {
     "data": {
      "text/plain": [
       "array([[0., 1., 0., ..., 0., 0., 1.],\n",
       "       [1., 0., 0., ..., 0., 1., 0.],\n",
       "       [1., 0., 0., ..., 0., 0., 1.],\n",
       "       ...,\n",
       "       [0., 1., 0., ..., 0., 1., 0.],\n",
       "       [1., 0., 1., ..., 0., 1., 0.],\n",
       "       [0., 1., 0., ..., 0., 1., 0.]])"
      ]
     },
     "execution_count": 59,
     "metadata": {},
     "output_type": "execute_result"
    }
   ],
   "source": [
    "X_encoded"
   ]
  },
  {
   "cell_type": "code",
   "execution_count": 60,
   "id": "b406f616",
   "metadata": {},
   "outputs": [
    {
     "data": {
      "text/plain": [
       "(2000, 13)"
      ]
     },
     "execution_count": 60,
     "metadata": {},
     "output_type": "execute_result"
    }
   ],
   "source": [
    "X_encoded.shape"
   ]
  },
  {
   "cell_type": "code",
   "execution_count": 66,
   "id": "2e3d492e",
   "metadata": {},
   "outputs": [
    {
     "data": {
      "text/plain": [
       "(2000, 19)"
      ]
     },
     "execution_count": 66,
     "metadata": {},
     "output_type": "execute_result"
    }
   ],
   "source": [
    "X_transformed = np.concatenate((X_scaled, X_encoded), axis=1)\n",
    "X.shape"
   ]
  },
  {
   "cell_type": "code",
   "execution_count": 64,
   "id": "89248ed7",
   "metadata": {},
   "outputs": [],
   "source": [
    "X_train, X_test, y_train, y_test = train_test_split(X_transformed, y, test_size=0.2, random_state=1234)"
   ]
  },
  {
   "cell_type": "code",
   "execution_count": 67,
   "id": "87b5997f",
   "metadata": {},
   "outputs": [],
   "source": [
    "cfl = RandomForestClassifier(n_estimators=20, max_depth=None, min_samples_split=2, random_state=0)"
   ]
  },
  {
   "cell_type": "code",
   "execution_count": 68,
   "id": "6da1ee04",
   "metadata": {},
   "outputs": [
    {
     "data": {
      "text/plain": [
       "RandomForestClassifier(n_estimators=20, random_state=0)"
      ]
     },
     "execution_count": 68,
     "metadata": {},
     "output_type": "execute_result"
    }
   ],
   "source": [
    "cfl.fit(X_train, y_train)"
   ]
  },
  {
   "cell_type": "code",
   "execution_count": 69,
   "id": "5e03e7fd",
   "metadata": {},
   "outputs": [],
   "source": [
    "pred = cfl.predict(X_test)"
   ]
  }
 ],
 "metadata": {
  "kernelspec": {
   "display_name": "Python 3 (ipykernel)",
   "language": "python",
   "name": "python3"
  },
  "language_info": {
   "codemirror_mode": {
    "name": "ipython",
    "version": 3
   },
   "file_extension": ".py",
   "mimetype": "text/x-python",
   "name": "python",
   "nbconvert_exporter": "python",
   "pygments_lexer": "ipython3",
   "version": "3.10.2"
  }
 },
 "nbformat": 4,
 "nbformat_minor": 5
}
